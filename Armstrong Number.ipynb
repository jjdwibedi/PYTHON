{
 "cells": [
  {
   "cell_type": "raw",
   "id": "e58f38aa",
   "metadata": {},
   "source": [
    " positive integer of n digits is called an Armstrong number of order n (order is number of digits) if.\n",
    "\n",
    "abcd... = pow(a,n) + pow(b,n) + pow(c,n) + pow(d,n) + .... "
   ]
  },
  {
   "cell_type": "code",
   "execution_count": 5,
   "id": "f2bc2a06",
   "metadata": {
    "ExecuteTime": {
     "end_time": "2024-02-09T19:48:25.005969Z",
     "start_time": "2024-02-09T19:48:24.984294Z"
    }
   },
   "outputs": [
    {
     "data": {
      "text/plain": [
       "True"
      ]
     },
     "execution_count": 5,
     "metadata": {},
     "output_type": "execute_result"
    }
   ],
   "source": [
    "def isArmstrong(num):\n",
    "    n=len(str(num))\n",
    "    sum=0\n",
    "    for i in str(num):\n",
    "        sum+=int(i)**n\n",
    "    if sum==num:\n",
    "        return True\n",
    "    return False\n",
    "isArmstrong(153)"
   ]
  },
  {
   "cell_type": "code",
   "execution_count": 7,
   "id": "1013fdd4",
   "metadata": {
    "ExecuteTime": {
     "end_time": "2024-02-09T19:49:15.462494Z",
     "start_time": "2024-02-09T19:49:15.444880Z"
    }
   },
   "outputs": [
    {
     "data": {
      "text/plain": [
       "False"
      ]
     },
     "execution_count": 7,
     "metadata": {},
     "output_type": "execute_result"
    }
   ],
   "source": [
    "isArmstrong(343)"
   ]
  },
  {
   "cell_type": "code",
   "execution_count": null,
   "id": "3d5a71d3",
   "metadata": {},
   "outputs": [],
   "source": []
  }
 ],
 "metadata": {
  "kernelspec": {
   "display_name": "Python 3 (ipykernel)",
   "language": "python",
   "name": "python3"
  },
  "language_info": {
   "codemirror_mode": {
    "name": "ipython",
    "version": 3
   },
   "file_extension": ".py",
   "mimetype": "text/x-python",
   "name": "python",
   "nbconvert_exporter": "python",
   "pygments_lexer": "ipython3",
   "version": "3.9.13"
  }
 },
 "nbformat": 4,
 "nbformat_minor": 5
}
